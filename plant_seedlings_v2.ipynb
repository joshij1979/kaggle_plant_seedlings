{
 "cells": [
  {
   "cell_type": "markdown",
   "metadata": {},
   "source": [
    "# Plant Seedlings Classification\n"
   ]
  },
  {
   "cell_type": "markdown",
   "metadata": {},
   "source": [
    "## 1. Setup\n",
    "\n"
   ]
  },
  {
   "cell_type": "code",
   "execution_count": 3,
   "metadata": {},
   "outputs": [],
   "source": [
    "%reload_ext autoreload\n",
    "%autoreload 2\n",
    "%matplotlib inline\n",
    "\n",
    "from fastai.imports import *\n",
    "from fastai.transforms import *\n",
    "from fastai.conv_learner import *\n",
    "from fastai.model import *\n",
    "from fastai.dataset import *\n",
    "from fastai.sgdr import *\n",
    "from fastai.plots import *\n",
    "\n",
    "# PATH = os.path.join('data', 'sample') + '/'\n",
    "PATH = os.path.join('data') + '/'"
   ]
  },
  {
   "cell_type": "markdown",
   "metadata": {},
   "source": [
    "## 2. Creating the model"
   ]
  },
  {
   "cell_type": "markdown",
   "metadata": {},
   "source": [
    "### 2.0 - initializing model"
   ]
  },
  {
   "cell_type": "markdown",
   "metadata": {},
   "source": [
    "These are things we want to run before each section, so each time we start with a new network."
   ]
  },
  {
   "cell_type": "code",
   "execution_count": 4,
   "metadata": {},
   "outputs": [],
   "source": [
    "size = 128"
   ]
  },
  {
   "cell_type": "code",
   "execution_count": 5,
   "metadata": {},
   "outputs": [],
   "source": [
    "arch=resnet34"
   ]
  },
  {
   "cell_type": "code",
   "execution_count": 6,
   "metadata": {},
   "outputs": [],
   "source": [
    "tfms = tfms_from_model(resnet34, size, aug_tfms=transforms_top_down, max_zoom=1.1)"
   ]
  },
  {
   "cell_type": "code",
   "execution_count": 7,
   "metadata": {},
   "outputs": [],
   "source": [
    "data = ImageClassifierData.from_paths(PATH, tfms=tfms, test_name='test')\n",
    "learn = ConvLearner.pretrained(arch, data, precompute=False)"
   ]
  },
  {
   "cell_type": "code",
   "execution_count": 14,
   "metadata": {},
   "outputs": [
    {
     "data": {
      "application/vnd.jupyter.widget-view+json": {
       "model_id": "fb121bec244c4bb891e24e863ae7d9db",
       "version_major": 2,
       "version_minor": 0
      },
      "text/html": [
       "<p>Failed to display Jupyter Widget of type <code>HBox</code>.</p>\n",
       "<p>\n",
       "  If you're reading this message in the Jupyter Notebook or JupyterLab Notebook, it may mean\n",
       "  that the widgets JavaScript is still loading. If this message persists, it\n",
       "  likely means that the widgets JavaScript library is either not installed or\n",
       "  not enabled. See the <a href=\"https://ipywidgets.readthedocs.io/en/stable/user_install.html\">Jupyter\n",
       "  Widgets Documentation</a> for setup instructions.\n",
       "</p>\n",
       "<p>\n",
       "  If you're reading this message in another frontend (for example, a static\n",
       "  rendering on GitHub or <a href=\"https://nbviewer.jupyter.org/\">NBViewer</a>),\n",
       "  it may mean that your frontend doesn't currently support widgets.\n",
       "</p>\n"
      ],
      "text/plain": [
       "HBox(children=(IntProgress(value=0, description='Epoch', max=1), HTML(value='')))"
      ]
     },
     "metadata": {},
     "output_type": "display_data"
    },
    {
     "name": "stdout",
     "output_type": "stream",
     "text": [
      " 93%|█████████▎| 56/60 [00:07<00:00,  7.02it/s, loss=19.6]\n",
      "                                                          \r"
     ]
    }
   ],
   "source": [
    "lrf=learn.lr_find()"
   ]
  },
  {
   "cell_type": "code",
   "execution_count": 15,
   "metadata": {},
   "outputs": [
    {
     "data": {
      "image/png": "[encoded data removed]",
      "text/plain": [
       "<matplotlib.figure.Figure at 0x7fdff1b8e240>"
      ]
     },
     "metadata": {},
     "output_type": "display_data"
    }
   ],
   "source": [
    "learn.sched.plot()"
   ]
  },
  {
   "cell_type": "markdown",
   "metadata": {},
   "source": [
    "The learning rate I decide to use is 2e-2"
   ]
  },
  {
   "cell_type": "markdown",
   "metadata": {},
   "source": [
    "### 2.1 Method 1 - simple fit"
   ]
  },
  {
   "cell_type": "code",
   "execution_count": 16,
   "metadata": {},
   "outputs": [
    {
     "data": {
      "application/vnd.jupyter.widget-view+json": {
       "model_id": "f0905ca97efe459d92e2a3e1c0d1d4c0",
       "version_major": 2,
       "version_minor": 0
      },
      "text/html": [
       "<p>Failed to display Jupyter Widget of type <code>HBox</code>.</p>\n",
       "<p>\n",
       "  If you're reading this message in the Jupyter Notebook or JupyterLab Notebook, it may mean\n",
       "  that the widgets JavaScript is still loading. If this message persists, it\n",
       "  likely means that the widgets JavaScript library is either not installed or\n",
       "  not enabled. See the <a href=\"https://ipywidgets.readthedocs.io/en/stable/user_install.html\">Jupyter\n",
       "  Widgets Documentation</a> for setup instructions.\n",
       "</p>\n",
       "<p>\n",
       "  If you're reading this message in another frontend (for example, a static\n",
       "  rendering on GitHub or <a href=\"https://nbviewer.jupyter.org/\">NBViewer</a>),\n",
       "  it may mean that your frontend doesn't currently support widgets.\n",
       "</p>\n"
      ],
      "text/plain": [
       "HBox(children=(IntProgress(value=0, description='Epoch', max=20), HTML(value='')))"
      ]
     },
     "metadata": {},
     "output_type": "display_data"
    },
    {
     "name": "stdout",
     "output_type": "stream",
     "text": [
      "[0.      1.94513 1.49078 0.50298]                         \n",
      "[1.      1.69118 1.39658 0.52619]                         \n",
      "[2.      1.54342 1.3265  0.54518]                         \n",
      "[3.      1.46399 1.30617 0.53662]                         \n",
      "[4.      1.42994 1.26385 0.56083]                         \n",
      "[5.      1.38714 1.26552 0.57567]                         \n",
      "[6.      1.37826 1.26941 0.56317]                         \n",
      "[7.      1.33385 1.26592 0.55976]                         \n",
      "[8.      1.30778 1.20497 0.57098]                         \n",
      "[9.      1.26936 1.22835 0.57778]                         \n",
      "[10.       1.23728  1.21363  0.5702 ]                     \n",
      "[11.       1.23117  1.22318  0.57098]                     \n",
      "[12.       1.21573  1.19862  0.5827 ]                     \n",
      "[13.       1.23605  1.1699   0.59418]                     \n",
      "[14.       1.21626  1.18831  0.57645]                     \n",
      "[15.       1.21147  1.17754  0.60278]                     \n",
      "[16.       1.19261  1.16635  0.60799]                     \n",
      "[17.       1.20442  1.17138  0.59757]                     \n",
      "[18.       1.18855  1.15463  0.60564]                     \n",
      "[19.       1.17633  1.16686  0.60484]                     \n",
      "\n"
     ]
    }
   ],
   "source": [
    "learn.fit(2e-2, 20)"
   ]
  },
  {
   "cell_type": "code",
   "execution_count": 17,
   "metadata": {},
   "outputs": [],
   "source": [
    "learn.save('simple_20_epochs')"
   ]
  },
  {
   "cell_type": "code",
   "execution_count": 18,
   "metadata": {},
   "outputs": [
    {
     "data": {
      "application/vnd.jupyter.widget-view+json": {
       "model_id": "2dc0512fae614fe09a55773c250b47d7",
       "version_major": 2,
       "version_minor": 0
      },
      "text/html": [
       "<p>Failed to display Jupyter Widget of type <code>HBox</code>.</p>\n",
       "<p>\n",
       "  If you're reading this message in the Jupyter Notebook or JupyterLab Notebook, it may mean\n",
       "  that the widgets JavaScript is still loading. If this message persists, it\n",
       "  likely means that the widgets JavaScript library is either not installed or\n",
       "  not enabled. See the <a href=\"https://ipywidgets.readthedocs.io/en/stable/user_install.html\">Jupyter\n",
       "  Widgets Documentation</a> for setup instructions.\n",
       "</p>\n",
       "<p>\n",
       "  If you're reading this message in another frontend (for example, a static\n",
       "  rendering on GitHub or <a href=\"https://nbviewer.jupyter.org/\">NBViewer</a>),\n",
       "  it may mean that your frontend doesn't currently support widgets.\n",
       "</p>\n"
      ],
      "text/plain": [
       "HBox(children=(IntProgress(value=0, description='Epoch', max=10), HTML(value='')))"
      ]
     },
     "metadata": {},
     "output_type": "display_data"
    },
    {
     "name": "stdout",
     "output_type": "stream",
     "text": [
      "[0.      1.10917 1.11944 0.60484]                         \n",
      "[1.      1.11686 1.11267 0.62439]                         \n",
      "[2.      1.13411 1.10696 0.62177]                         \n",
      "[3.      1.10852 1.11126 0.60302]                         \n",
      "[4.      1.13442 1.11315 0.61448]                         \n",
      "[5.      1.11926 1.12346 0.6137 ]                         \n",
      "[6.      1.09909 1.13664 0.60249]                         \n",
      "[7.      1.10201 1.09744 0.62594]                         \n",
      "[8.      1.10868 1.11034 0.61579]                         \n",
      "[9.      1.09576 1.10866 0.61397]                         \n",
      "\n"
     ]
    }
   ],
   "source": [
    "learn.fit(2e-2, 10)"
   ]
  },
  {
   "cell_type": "code",
   "execution_count": 19,
   "metadata": {},
   "outputs": [],
   "source": [
    "learn.save('simple_30_epochs')"
   ]
  },
  {
   "cell_type": "markdown",
   "metadata": {},
   "source": [
    "As we can see, the learning slowed down about 20th iteration.\n",
    "The training loss (2nd column) stays pretty much the same, same as while validation loss (3rd column) and validation accuracy (4th column).\n",
    "\n",
    "Adding more epochs doesn't seem to improve the results much, so we will try different methods."
   ]
  },
  {
   "cell_type": "markdown",
   "metadata": {},
   "source": [
    "### 2.2 Method 2 - cycles"
   ]
  },
  {
   "cell_type": "code",
   "execution_count": 34,
   "metadata": {},
   "outputs": [
    {
     "data": {
      "application/vnd.jupyter.widget-view+json": {
       "model_id": "66bbbbe20b7e43369f3f55e238772ddd",
       "version_major": 2,
       "version_minor": 0
      },
      "text/html": [
       "<p>Failed to display Jupyter Widget of type <code>HBox</code>.</p>\n",
       "<p>\n",
       "  If you're reading this message in the Jupyter Notebook or JupyterLab Notebook, it may mean\n",
       "  that the widgets JavaScript is still loading. If this message persists, it\n",
       "  likely means that the widgets JavaScript library is either not installed or\n",
       "  not enabled. See the <a href=\"https://ipywidgets.readthedocs.io/en/stable/user_install.html\">Jupyter\n",
       "  Widgets Documentation</a> for setup instructions.\n",
       "</p>\n",
       "<p>\n",
       "  If you're reading this message in another frontend (for example, a static\n",
       "  rendering on GitHub or <a href=\"https://nbviewer.jupyter.org/\">NBViewer</a>),\n",
       "  it may mean that your frontend doesn't currently support widgets.\n",
       "</p>\n"
      ],
      "text/plain": [
       "HBox(children=(IntProgress(value=0, description='Epoch', max=31), HTML(value='')))"
      ]
     },
     "metadata": {},
     "output_type": "display_data"
    },
    {
     "name": "stdout",
     "output_type": "stream",
     "text": [
      "[0.      1.7813  1.34299 0.56032]                         \n",
      "[1.      1.50003 1.06753 0.64679]                         \n",
      "[2.      1.28028 1.02307 0.66424]                         \n",
      "[3.      1.25097 0.96723 0.66166]                         \n",
      "[4.      1.16013 0.90938 0.68822]                         \n",
      "[5.      1.08207 0.85288 0.71191]                         \n",
      "[6.      1.04017 0.84071 0.70357]                         \n",
      "[7.      1.03879 0.87107 0.69967]                         \n",
      "[8.      1.0399  0.82456 0.71844]                         \n",
      "[9.      1.00741 0.77837 0.73795]                         \n",
      "[10.       0.98066  0.7619   0.73797]                      \n",
      "[11.       0.9603   0.73374  0.75333]                      \n",
      "[12.       0.94377  0.7282   0.7575 ]                      \n",
      "[13.       0.91235  0.71887  0.76895]                      \n",
      "[14.       0.88362  0.72467  0.76922]                      \n",
      "[15.       0.92798  0.7657   0.74839]                      \n",
      "[16.       0.96951  0.77429  0.73094]                      \n",
      "[17.       0.93276  0.7354   0.76401]                      \n",
      "[18.       0.89618  0.72926  0.75151]                      \n",
      "[19.       0.88416  0.69419  0.76609]                      \n",
      "[20.       0.88321  0.72218  0.75907]                      \n",
      "[21.       0.86754  0.67298  0.77782]                      \n",
      "[22.       0.85607  0.68419  0.7674 ]                      \n",
      "[23.       0.83781  0.67946  0.77053]                      \n",
      "[24.       0.78597  0.64516  0.7799 ]                      \n",
      "[25.       0.79532  0.65343  0.77678]                      \n",
      "[26.       0.79174  0.64987  0.78303]                      \n",
      "[27.       0.78942  0.65737  0.77678]                      \n",
      "[28.       0.78674  0.65631  0.78407]                      \n",
      "[29.       0.7824   0.64634  0.78511]                      \n",
      "[30.       0.77733  0.64519  0.78094]                      \n",
      "\n"
     ]
    }
   ],
   "source": [
    "learn.fit(2e-2, 5, cycle_len=1, cycle_mult=2)"
   ]
  },
  {
   "cell_type": "markdown",
   "metadata": {},
   "source": [
    "This result gave much better result with the similar number of epochs."
   ]
  },
  {
   "cell_type": "code",
   "execution_count": 35,
   "metadata": {},
   "outputs": [],
   "source": [
    "learn.save('cycles_512')"
   ]
  },
  {
   "cell_type": "markdown",
   "metadata": {},
   "source": [
    "### 2.3.1 Method 3 - finetuning"
   ]
  },
  {
   "cell_type": "code",
   "execution_count": 6,
   "metadata": {},
   "outputs": [],
   "source": [
    "learn.unfreeze()"
   ]
  },
  {
   "cell_type": "code",
   "execution_count": 7,
   "metadata": {},
   "outputs": [],
   "source": [
    "learning_rate_base = 2e-2\n",
    "lr=np.array([learning_rate_base/9,learning_rate_base/3,learning_rate_base])"
   ]
  },
  {
   "cell_type": "code",
   "execution_count": 8,
   "metadata": {},
   "outputs": [
    {
     "data": {
      "application/vnd.jupyter.widget-view+json": {
       "model_id": "593c9c98a4c64fccb0031ec922a20d5d",
       "version_major": 2,
       "version_minor": 0
      },
      "text/html": [
       "<p>Failed to display Jupyter Widget of type <code>HBox</code>.</p>\n",
       "<p>\n",
       "  If you're reading this message in the Jupyter Notebook or JupyterLab Notebook, it may mean\n",
       "  that the widgets JavaScript is still loading. If this message persists, it\n",
       "  likely means that the widgets JavaScript library is either not installed or\n",
       "  not enabled. See the <a href=\"https://ipywidgets.readthedocs.io/en/stable/user_install.html\">Jupyter\n",
       "  Widgets Documentation</a> for setup instructions.\n",
       "</p>\n",
       "<p>\n",
       "  If you're reading this message in another frontend (for example, a static\n",
       "  rendering on GitHub or <a href=\"https://nbviewer.jupyter.org/\">NBViewer</a>),\n",
       "  it may mean that your frontend doesn't currently support widgets.\n",
       "</p>\n"
      ],
      "text/plain": [
       "HBox(children=(IntProgress(value=0, description='Epoch', max=15), HTML(value='')))"
      ]
     },
     "metadata": {},
     "output_type": "display_data"
    },
    {
     "name": "stdout",
     "output_type": "stream",
     "text": [
      "[0.      1.15004 0.62685 0.78926]                         \n",
      "[1.      0.61557 0.39989 0.85825]                          \n",
      "[2.      0.39159 0.31553 0.88538]                          \n",
      "[3.      0.35809 0.4463  0.851  ]                          \n",
      "[4.      0.29195 0.27541 0.90308]                          \n",
      "[5.      0.21587 0.2354  0.91507]                          \n",
      "[6.      0.1806  0.23286 0.91897]                          \n",
      "[7.      0.21102 0.61848 0.82418]                          \n",
      "[8.      0.20809 0.34462 0.88797]                          \n",
      "[9.      0.18368 0.49826 0.84761]                          \n",
      "[10.       0.16004  0.24655  0.91481]                      \n",
      "[11.       0.12128  0.23284  0.92185]                      \n",
      "[12.       0.0992   0.23761  0.92445]                       \n",
      "[13.       0.08569  0.22695  0.92653]                       \n",
      "[14.       0.0831   0.2258   0.92915]                       \n",
      "\n"
     ]
    }
   ],
   "source": [
    "learn.fit(lr, 4, cycle_len=1, cycle_mult=2)"
   ]
  },
  {
   "cell_type": "code",
   "execution_count": 9,
   "metadata": {},
   "outputs": [],
   "source": [
    "learn.save('finetuning_412_div_3')"
   ]
  },
  {
   "cell_type": "markdown",
   "metadata": {},
   "source": [
    "These results seem impressive - 93% accuracy on the validation set.\n",
    "\n",
    "However, we may have experienced some overfitting - training loss dropped 2 times, while validation stayed pretty much te same."
   ]
  },
  {
   "cell_type": "markdown",
   "metadata": {},
   "source": [
    "Now we will try using different divisor for the finetuning"
   ]
  },
  {
   "cell_type": "markdown",
   "metadata": {},
   "source": [
    "### 2.3.2 Method 3 - finetuning"
   ]
  },
  {
   "cell_type": "code",
   "execution_count": 12,
   "metadata": {},
   "outputs": [],
   "source": [
    "learn.unfreeze()"
   ]
  },
  {
   "cell_type": "code",
   "execution_count": 13,
   "metadata": {},
   "outputs": [],
   "source": [
    "learning_rate_base = 2e-2\n",
    "lr=np.array([learning_rate_base/4,learning_rate_base/2,learning_rate_base])"
   ]
  },
  {
   "cell_type": "code",
   "execution_count": 14,
   "metadata": {},
   "outputs": [
    {
     "data": {
      "application/vnd.jupyter.widget-view+json": {
       "model_id": "19fe18e59d344429af8c5110557bea65",
       "version_major": 2,
       "version_minor": 0
      },
      "text/html": [
       "<p>Failed to display Jupyter Widget of type <code>HBox</code>.</p>\n",
       "<p>\n",
       "  If you're reading this message in the Jupyter Notebook or JupyterLab Notebook, it may mean\n",
       "  that the widgets JavaScript is still loading. If this message persists, it\n",
       "  likely means that the widgets JavaScript library is either not installed or\n",
       "  not enabled. See the <a href=\"https://ipywidgets.readthedocs.io/en/stable/user_install.html\">Jupyter\n",
       "  Widgets Documentation</a> for setup instructions.\n",
       "</p>\n",
       "<p>\n",
       "  If you're reading this message in another frontend (for example, a static\n",
       "  rendering on GitHub or <a href=\"https://nbviewer.jupyter.org/\">NBViewer</a>),\n",
       "  it may mean that your frontend doesn't currently support widgets.\n",
       "</p>\n"
      ],
      "text/plain": [
       "HBox(children=(IntProgress(value=0, description='Epoch', max=15), HTML(value='')))"
      ]
     },
     "metadata": {},
     "output_type": "display_data"
    },
    {
     "name": "stdout",
     "output_type": "stream",
     "text": [
      "[0.      1.10276 0.62678 0.80929]                         \n",
      "[1.      0.67279 0.4174  0.85776]                          \n",
      "[2.      0.43191 0.29587 0.90805]                          \n",
      "[3.      0.36992 0.41441 0.85882]                          \n",
      "[4.      0.29061 0.56825 0.8182 ]                          \n",
      "[5.      0.22028 0.23222 0.92316]                          \n",
      "[6.      0.18789 0.2331  0.91665]                          \n",
      "[7.      0.22387 0.79643 0.74058]                          \n",
      "[8.      0.22193 0.69442 0.78407]                          \n",
      "[9.      0.2053  0.27727 0.89344]                          \n",
      "[10.       0.1546   0.21451  0.919  ]                      \n",
      "[11.       0.1268   0.19712  0.92837]                      \n",
      "[12.       0.1091   0.21471  0.92576]                      \n",
      "[13.       0.09225  0.176    0.94191]                       \n",
      "[14.       0.08424  0.18502  0.93436]                       \n",
      "\n"
     ]
    }
   ],
   "source": [
    "learn.fit(lr, 4, cycle_len=1, cycle_mult=2)"
   ]
  },
  {
   "cell_type": "code",
   "execution_count": 15,
   "metadata": {},
   "outputs": [],
   "source": [
    "learn.save('finetuning_412_div_2')"
   ]
  },
  {
   "cell_type": "markdown",
   "metadata": {},
   "source": [
    "The results are similar, maybe signs of overfitting are not as visible as the last time, but it may be just randomness."
   ]
  },
  {
   "cell_type": "markdown",
   "metadata": {},
   "source": [
    "### 2.4 Method 4 - finetuning trained network"
   ]
  },
  {
   "cell_type": "markdown",
   "metadata": {},
   "source": [
    "This time we will take network learned in point 2.2 as a starting point."
   ]
  },
  {
   "cell_type": "code",
   "execution_count": 17,
   "metadata": {},
   "outputs": [],
   "source": [
    "learn.load('cycles_512')"
   ]
  },
  {
   "cell_type": "code",
   "execution_count": 18,
   "metadata": {},
   "outputs": [],
   "source": [
    "learn.unfreeze()"
   ]
  },
  {
   "cell_type": "code",
   "execution_count": 19,
   "metadata": {},
   "outputs": [],
   "source": [
    "learning_rate_base = 2e-2\n",
    "lr=np.array([learning_rate_base/4,learning_rate_base/2,learning_rate_base])"
   ]
  },
  {
   "cell_type": "code",
   "execution_count": 20,
   "metadata": {},
   "outputs": [
    {
     "data": {
      "application/vnd.jupyter.widget-view+json": {
       "model_id": "364b0bb74fc44ee086777c18b74f92fb",
       "version_major": 2,
       "version_minor": 0
      },
      "text/html": [
       "<p>Failed to display Jupyter Widget of type <code>HBox</code>.</p>\n",
       "<p>\n",
       "  If you're reading this message in the Jupyter Notebook or JupyterLab Notebook, it may mean\n",
       "  that the widgets JavaScript is still loading. If this message persists, it\n",
       "  likely means that the widgets JavaScript library is either not installed or\n",
       "  not enabled. See the <a href=\"https://ipywidgets.readthedocs.io/en/stable/user_install.html\">Jupyter\n",
       "  Widgets Documentation</a> for setup instructions.\n",
       "</p>\n",
       "<p>\n",
       "  If you're reading this message in another frontend (for example, a static\n",
       "  rendering on GitHub or <a href=\"https://nbviewer.jupyter.org/\">NBViewer</a>),\n",
       "  it may mean that your frontend doesn't currently support widgets.\n",
       "</p>\n"
      ],
      "text/plain": [
       "HBox(children=(IntProgress(value=0, description='Epoch', max=15), HTML(value='')))"
      ]
     },
     "metadata": {},
     "output_type": "display_data"
    },
    {
     "name": "stdout",
     "output_type": "stream",
     "text": [
      "[0.      0.72773 0.47911 0.82753]                          \n",
      "[1.      0.48923 0.42605 0.85359]                          \n",
      "[2.      0.33707 0.28563 0.89606]                          \n",
      "[3.      0.32382 0.4093  0.86064]                          \n",
      "[4.      0.2614  0.23518 0.91093]                          \n",
      "[5.      0.2011  0.20891 0.92706]                          \n",
      "[6.      0.15181 0.20162 0.92629]                          \n",
      "[7.      0.17209 0.45153 0.85153]                          \n",
      "[8.      0.19191 0.29852 0.88305]                          \n",
      "[9.      0.16768 0.22959 0.92185]                          \n",
      "[10.       0.14245  0.24886  0.92004]                      \n",
      "[11.       0.11244  0.20777  0.92524]                      \n",
      "[12.       0.0918   0.18859  0.93149]                       \n",
      "[13.       0.07918  0.20453  0.92837]                       \n",
      "[14.       0.07298  0.20606  0.92185]                       \n",
      "\n"
     ]
    }
   ],
   "source": [
    "learn.fit(lr, 4, cycle_len=1, cycle_mult=2)"
   ]
  },
  {
   "cell_type": "markdown",
   "metadata": {},
   "source": [
    "The results are similar, which was predictable - finetuning alone gives us so much boost that changing the starting point doesn't really improves much."
   ]
  },
  {
   "cell_type": "code",
   "execution_count": 21,
   "metadata": {},
   "outputs": [],
   "source": [
    "learn.save('finetuning_412_div_2_from_cycles')"
   ]
  },
  {
   "cell_type": "markdown",
   "metadata": {},
   "source": [
    "## 3. Analysing the results"
   ]
  },
  {
   "cell_type": "code",
   "execution_count": 8,
   "metadata": {},
   "outputs": [],
   "source": [
    "learn.load('finetuning_412_div_2_from_cycles')"
   ]
  },
  {
   "cell_type": "code",
   "execution_count": 9,
   "metadata": {},
   "outputs": [
    {
     "name": "stdout",
     "output_type": "stream",
     "text": [
      "                                             \r"
     ]
    }
   ],
   "source": [
    "log_preds,y = learn.TTA()\n",
    "preds = np.argmax(log_preds, axis=1)\n",
    "probs = np.mean(np.exp(log_preds), axis=0)\n",
    "\n",
    "from sklearn.metrics import confusion_matrix\n",
    "cm = confusion_matrix(y, preds)\n",
    "\n"
   ]
  },
  {
   "cell_type": "code",
   "execution_count": 10,
   "metadata": {},
   "outputs": [
    {
     "name": "stdout",
     "output_type": "stream",
     "text": [
      "[[ 33   0   0   0   0   0  19   0   0   0   0   0]\n",
      " [  0  77   1   0   0   0   0   0   0   0   0   0]\n",
      " [  0   0  56   1   0   0   0   0   0   0   0   0]\n",
      " [  0   0   0 122   0   0   0   0   0   0   0   0]\n",
      " [  3   0   0   0  40   0   0   0   0   0   0   1]\n",
      " [  1   0   0   0   0  94   0   0   0   0   0   0]\n",
      " [  8   0   0   0   0   0 121   1   0   0   0   0]\n",
      " [  0   0   0   0   0   0   0  44   0   0   0   0]\n",
      " [  0   0   1   0   0   0   2   0 100   0   0   0]\n",
      " [  0   0   0   0   0   0   0   0   1  45   0   0]\n",
      " [  0   0   0   0   0   0   0   0   0   0  99   0]\n",
      " [  0   0   0   0   2   1   1   1   1   0   0  71]]\n"
     ]
    },
    {
     "data": {
      "image/png": "[encoded data removed]",
      "text/plain": [
       "<matplotlib.figure.Figure at 0x7f8344d5a710>"
      ]
     },
     "metadata": {},
     "output_type": "display_data"
    }
   ],
   "source": [
    "plot_confusion_matrix(cm, data.classes)"
   ]
  },
  {
   "cell_type": "markdown",
   "metadata": {},
   "source": [
    "As we can see from the confusion matrix, the majority of errors come from mistaking classes 0 and 6 - Black grass and Loose Silky-bent.\n",
    "\n",
    "To help the network to distinguish them better, it may be helpful to look into the data."
   ]
  },
  {
   "cell_type": "code",
   "execution_count": 11,
   "metadata": {},
   "outputs": [],
   "source": [
    "visualization_size = 4"
   ]
  },
  {
   "cell_type": "code",
   "execution_count": 12,
   "metadata": {},
   "outputs": [],
   "source": [
    "log_preds = learn.predict()\n",
    "preds = np.argmax(log_preds, axis=1)  # from log probabilities to 0 or 1\n",
    "probs = np.amax(np.exp(log_preds),axis=1)"
   ]
  },
  {
   "cell_type": "code",
   "execution_count": 13,
   "metadata": {},
   "outputs": [],
   "source": [
    "def rand_by_mask(mask): return np.random.choice(np.where(mask)[0], visualization_size, replace=False)\n",
    "def rand_by_correct(is_correct): return rand_by_mask((preds == data.val_y)==is_correct)\n",
    "\n",
    "def load_img_id(ds, idx): return np.array(PIL.Image.open(PATH + ds.fnames[idx]))\n",
    "\n",
    "def plot_val_with_title(idxs, title):\n",
    "    imgs = [load_img_id(data.val_ds, x) for x in idxs]\n",
    "    title_probs = [probs[x] for x in idxs]\n",
    "    print(title)\n",
    "    return plots(imgs, rows=1, titles=title_probs, figsize=(16,8))"
   ]
  },
  {
   "cell_type": "code",
   "execution_count": 14,
   "metadata": {},
   "outputs": [],
   "source": [
    "incorrect_ids = np.where((preds == data.val_y)==False)[0]"
   ]
  },
  {
   "cell_type": "code",
   "execution_count": 15,
   "metadata": {},
   "outputs": [],
   "source": [
    "predictions = [preds[x] for x in incorrect_ids]"
   ]
  },
  {
   "cell_type": "code",
   "execution_count": 16,
   "metadata": {},
   "outputs": [],
   "source": [
    "labels = [data.val_y[x] for x in incorrect_ids]"
   ]
  },
  {
   "cell_type": "code",
   "execution_count": 17,
   "metadata": {},
   "outputs": [],
   "source": [
    "imgs = [load_img_id(data.val_ds, x) for x in incorrect_ids]"
   ]
  },
  {
   "cell_type": "code",
   "execution_count": 33,
   "metadata": {},
   "outputs": [
    {
     "name": "stdout",
     "output_type": "stream",
     "text": [
      "Predicted: Loose Silky-bent Real: Black-grass\n"
     ]
    },
    {
     "data": {
      "image/png": "[encoded data removed]",
      "text/plain": [
       "<matplotlib.figure.Figure at 0x7f8293213cc0>"
      ]
     },
     "metadata": {},
     "output_type": "display_data"
    }
   ],
   "source": [
    "current_id = 0\n",
    "plt.imshow(imgs[current_id])\n",
    "print(\"Predicted:\", data.classes[predictions[current_id]], \"Real:\", data.classes[labels[current_id]])"
   ]
  },
  {
   "cell_type": "markdown",
   "metadata": {},
   "source": [
    "## 4. Conclusion"
   ]
  },
  {
   "cell_type": "code",
   "execution_count": 34,
   "metadata": {},
   "outputs": [
    {
     "name": "stdout",
     "output_type": "stream",
     "text": [
      "                                             \r"
     ]
    },
    {
     "data": {
      "text/html": [
       "<a href='submission_2.csv' target='_blank'>submission_2.csv</a><br>"
      ],
      "text/plain": [
       "/home/paperspace/kaggle_plant_seedlings/submission_2.csv"
      ]
     },
     "execution_count": 34,
     "metadata": {},
     "output_type": "execute_result"
    }
   ],
   "source": [
    "test_log_predictions, _ = learn.TTA(is_test=True)\n",
    "test_predictions = np.argmax(test_log_predictions, axis=1)\n",
    "test_predictions_classes = [data.classes[pred] for pred in test_predictions]\n",
    "test_file_names = learn.data.test_ds.fnames\n",
    "\n",
    "with open('submission_2.csv', 'w') as the_file:\n",
    "    the_file.write('file,species\\n')\n",
    "    for file_path, prediction in zip(test_file_names, test_predictions_classes):\n",
    "        file_name = file_path.split('/')[-1]\n",
    "        the_file.write(file_name)\n",
    "        the_file.write(\",\")\n",
    "        the_file.write(prediction)\n",
    "        the_file.write(\"\\n\")\n",
    "the_file.close()\n",
    "\n",
    "from IPython.display import FileLink\n",
    "FileLink('submission_2.csv')\n"
   ]
  },
  {
   "cell_type": "markdown",
   "metadata": {},
   "source": [
    "For now I will finish this experiment.\n",
    "Ther results are pretty good, most of the mistakes are done due to confusing two classes, which I can't distinguish with my naked eye anyway.\n",
    "\n",
    "After submitting this results to the competition I scored 0.95969 on the testing set, whic placed me 209th position on the leaderboard, which at the moment of writing is top 40%.\n",
    "Getting to this position took me about 6 hours of coding."
   ]
  },
  {
   "cell_type": "markdown",
   "metadata": {},
   "source": []
  }
 ],
 "metadata": {
  "kernelspec": {
   "display_name": "Python 3",
   "language": "python",
   "name": "python3"
  },
  "language_info": {
   "codemirror_mode": {
    "name": "ipython",
    "version": 3
   },
   "file_extension": ".py",
   "mimetype": "text/x-python",
   "name": "python",
   "nbconvert_exporter": "python",
   "pygments_lexer": "ipython3",
   "version": "3.6.4"
  }
 },
 "nbformat": 4,
 "nbformat_minor": 2
}
