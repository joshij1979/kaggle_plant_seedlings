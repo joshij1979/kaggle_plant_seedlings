{
 "cells": [
  {
   "cell_type": "markdown",
   "metadata": {},
   "source": [
    "Simple script for creating validation set."
   ]
  },
  {
   "cell_type": "markdown",
   "metadata": {},
   "source": [
    "Source: https://github.com/Renga411/dl1.fastai/blob/master/Validation-set-creator.ipynb"
   ]
  },
  {
   "cell_type": "code",
   "execution_count": 12,
   "metadata": {},
   "outputs": [],
   "source": [
    "import os as os\n",
    "from os import *\n",
    "import random"
   ]
  },
  {
   "cell_type": "code",
   "execution_count": 13,
   "metadata": {},
   "outputs": [],
   "source": [
    "PATH = os.path.join('data', 'sample')\n",
    "#PATH = os.path.join('data')"
   ]
  },
  {
   "cell_type": "code",
   "execution_count": 14,
   "metadata": {},
   "outputs": [
    {
     "name": "stdout",
     "output_type": "stream",
     "text": [
      "['Black-grass', 'Charlock', 'Cleavers', 'Common Chickweed', 'Common wheat', 'Fat Hen', 'Loose Silky-bent', 'Maize', 'Scentless Mayweed', 'Shepherds Purse', 'Small-flowered Cranesbill', 'Sugar beet']\n"
     ]
    }
   ],
   "source": [
    "classes=!ls {PATH}/train\n",
    "print(classes)"
   ]
  },
  {
   "cell_type": "code",
   "execution_count": 15,
   "metadata": {},
   "outputs": [],
   "source": [
    "def copy_to_valid(chosen_files, class_dir):\n",
    "    for i in range (len(chosen_files)):\n",
    "        !mv \"{PATH}/train/{class_dir}/{chosen_files[i]}\" \"{PATH}/valid/{class_dir}\""
   ]
  },
  {
   "cell_type": "code",
   "execution_count": 16,
   "metadata": {},
   "outputs": [],
   "source": [
    "validation_ratio = 0.2\n",
    "for classname in classes:\n",
    "    os.makedirs(f'{PATH}/valid/{classname}', exist_ok=True)\n",
    "    list_of_files = !ls \"{PATH}/train/{classname}\"\n",
    "    random.shuffle(list_of_files)\n",
    "    n_files_moved=int(len(list_of_files) * validation_ratio)\n",
    "    selected_files = [list_of_files[m] for m in range(n_files_moved)]\n",
    "    copy_to_valid(selected_files,classname)"
   ]
  },
  {
   "cell_type": "code",
   "execution_count": null,
   "metadata": {},
   "outputs": [],
   "source": []
  }
 ],
 "metadata": {
  "kernelspec": {
   "display_name": "venv-fast-ai",
   "language": "python",
   "name": "venv-fast-ai"
  },
  "language_info": {
   "codemirror_mode": {
    "name": "ipython",
    "version": 3
   },
   "file_extension": ".py",
   "mimetype": "text/x-python",
   "name": "python",
   "nbconvert_exporter": "python",
   "pygments_lexer": "ipython3",
   "version": "3.6.4"
  }
 },
 "nbformat": 4,
 "nbformat_minor": 2
}
